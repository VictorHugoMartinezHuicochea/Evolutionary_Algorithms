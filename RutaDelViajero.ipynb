{
  "nbformat": 4,
  "nbformat_minor": 0,
  "metadata": {
    "colab": {
      "provenance": [],
      "toc_visible": true
    },
    "kernelspec": {
      "name": "python3",
      "display_name": "Python 3"
    },
    "language_info": {
      "name": "python"
    }
  },
  "cells": [
    {
      "cell_type": "markdown",
      "source": [
        "#Cruza"
      ],
      "metadata": {
        "id": "Nu6kN8T7ouk0"
      }
    },
    {
      "cell_type": "markdown",
      "source": [
        "##Partially"
      ],
      "metadata": {
        "id": "GAylAGIK2wYr"
      }
    },
    {
      "cell_type": "code",
      "source": [
        "#Partially-crossover\n",
        "def Partially(Parent1,Parent2,Childrens):\n",
        "  Child1=copy.deepcopy(Parent1)\n",
        "  Child2=copy.deepcopy(Parent2)\n",
        "\n",
        "  #Seleccionamos los puntos de corte\n",
        "  n=random.randrange(len(Parent1))\n",
        "  k=random.randrange(len(Parent2))\n",
        "\n",
        "  if(k<n):\n",
        "    A=k\n",
        "    k=n\n",
        "    n=k\n",
        "\n",
        "  Aux1=[]\n",
        "  Aux2=[]\n",
        "\n",
        "  for i in range(n,k+1):\n",
        "      #Copiamos los arrays\n",
        "      Aux1.append(Child1[i])\n",
        "      Aux2.append(Child2[i])\n",
        "\n",
        "\n",
        "  #Convertimos los elementos\n",
        "  for i in range(len(Aux1)):\n",
        "    #Buscamos los elementos del Aux a intercambiar dentro del arreglo\n",
        "    Pos1=Child1.index(Aux2[i])\n",
        "    Pos2=Child2.index(Aux1[i])\n",
        "    #Los convertimos a elementos imposibles\n",
        "    Child1[Pos1]=-1\n",
        "    Child2[Pos2]=-1\n",
        "\n",
        "  for i in range(len(Aux1)):\n",
        "    #Intercambiamos elementos\n",
        "    Child1[n+i]=Aux2[i]\n",
        "    Child2[n+i]=Aux1[i]\n",
        "\n",
        "  #Agregamos a los faltantes\n",
        "  for i in range(len(Child1)):\n",
        "    if (Child1[i]==-1):\n",
        "      #Obtenemos que numero correspondiente\n",
        "      #Buscamos su index dentro de aux\n",
        "      Pos1=Aux2.index(Parent1[i])\n",
        "\n",
        "      #Mientras este repetido\n",
        "      while(Aux1[Pos1] in Child1):\n",
        "        Pos1=Aux2.index(Aux1[Pos1])\n",
        "\n",
        "      #Lo cambiamos por su contraparte en Aux2\n",
        "      Child1[i]=Aux1[Pos1]\n",
        "\n",
        "\n",
        "\n",
        "    #Repetimos en Child2\n",
        "    if (Child2[i]==-1):\n",
        "      #Obtenemos que numero correspondiente\n",
        "      #Buscamos su index dentro de aux\n",
        "      Pos2=Aux1.index(Parent2[i])\n",
        "\n",
        "      #Mientras este repetido\n",
        "      while(Aux2[Pos2] in Child2):\n",
        "        Pos2=Aux1.index(Aux2[Pos2])\n",
        "\n",
        "      #Lo cambiamos por su contraparte en Aux2\n",
        "      Child2[i]=Aux2[Pos2]\n",
        "\n",
        "  #Enviamos los hijos\n",
        "  Childrens.append(Child1)\n",
        "  Childrens.append(Child2)\n",
        "\n",
        "  return Childrens\n"
      ],
      "metadata": {
        "id": "H1E8i1ZOovEx"
      },
      "execution_count": null,
      "outputs": []
    },
    {
      "cell_type": "markdown",
      "source": [
        "##Position"
      ],
      "metadata": {
        "id": "uiVqRiNZ2qyu"
      }
    },
    {
      "cell_type": "code",
      "source": [
        "#Position-Based\n",
        "def Position(Parent1,Parent2,Childrens):\n",
        "\n",
        "  #Creamos una lista de seleecionados\n",
        "  Seleccion=[]\n",
        "\n",
        "  #Copiamos al padre\n",
        "  Child1=copy.deepcopy(Parent1)\n",
        "  for i in range(len(Parent1)):\n",
        "    #Seleecionamos al azar por volado\n",
        "    volado=random.uniform(0,1)\n",
        "    if(volado<0.5):\n",
        "      #si es selleccionado se agrega a los selecionados\n",
        "      Seleccion.append(Child1[i])\n",
        "    else:\n",
        "      #Si no es seleccionado se elimina del hijo\n",
        "      Child1[i]=-1\n",
        "\n",
        "  #Creamos un auxiliar\n",
        "  Aux=copy.deepcopy(Parent2)\n",
        "\n",
        "  for i in range(len(Seleccion)):\n",
        "    #Buscamos el indice de los seleccionados en H1 en P2\n",
        "    Pos=Parent2.index(Seleccion[i])\n",
        "    #Los eliminamos\n",
        "    Aux[Pos]=-1\n",
        "\n",
        "\n",
        "\n",
        "  #Creamos una lista de los que faltan con el orden del otro padre\n",
        "  Lista=[]\n",
        "  for i in range(len(Aux)):\n",
        "    if(Aux[i]!=-1):\n",
        "      Lista.append(Aux[i])\n",
        "\n",
        "  #Agregamos los elementos faltantes\n",
        "  j=0\n",
        "  for i in range(len(Parent1)):\n",
        "    if(Child1[i]==-1):\n",
        "      Child1[i]=Lista[j]\n",
        "      j+=1\n",
        "\n",
        "\n",
        "\n",
        "\n",
        "\n",
        "\n",
        "\n",
        "\n",
        "  #Repetimos para P2\n",
        "  #Creamos una lista de seleccionados\n",
        "  Seleccion=[]\n",
        "\n",
        "  #Copiamos al padre\n",
        "  Child2=copy.deepcopy(Parent2)\n",
        "  for i in range(len(Parent1)):\n",
        "    #Seleecionamos al azar por volado\n",
        "    volado=random.uniform(0,1)\n",
        "    if(volado<0.5):\n",
        "      #si es selleccionado se agrega a los selecionados\n",
        "      Seleccion.append(Child2[i])\n",
        "    else:\n",
        "      #Si no es seleccionado se elimina del hijo\n",
        "      Child2[i]=-1\n",
        "\n",
        "  #Creamos un auxiliar\n",
        "  Aux=copy.deepcopy(Parent1)\n",
        "\n",
        "  for i in range(len(Seleccion)):\n",
        "    #Buscamos el indice de los seleccionados en H2 en P1\n",
        "    Pos=Parent1.index(Seleccion[i])\n",
        "    #Los eliminamos\n",
        "    Aux[Pos]=-1\n",
        "\n",
        "\n",
        "\n",
        "  #Creamos una lista de los que faltan con el orden del otro padre\n",
        "  Lista=[]\n",
        "  for i in range(len(Aux)):\n",
        "    if(Aux[i]!=-1):\n",
        "      Lista.append(Aux[i])\n",
        "\n",
        "  #Agregamos los elementos faltantes\n",
        "  j=0\n",
        "  for i in range(len(Parent1)):\n",
        "    if(Child2[i]==-1):\n",
        "      Child2[i]=Lista[j]\n",
        "      j+=1\n",
        "\n",
        " #Enviamos los hijos\n",
        "  Childrens.append(Child1)\n",
        "  Childrens.append(Child2)\n",
        "\n",
        "  return Childrens\n"
      ],
      "metadata": {
        "id": "ZF-90mr-KuHt"
      },
      "execution_count": null,
      "outputs": []
    },
    {
      "cell_type": "markdown",
      "source": [
        "##Ordered"
      ],
      "metadata": {
        "id": "ec5BpxSu2ne2"
      }
    },
    {
      "cell_type": "code",
      "source": [
        "#Ordered\n",
        "def Ordered(Parent1,Parent2,Childrens):\n",
        "  #Creamos una lista vacia\n",
        "  Lista=[]\n",
        "  #Agregamos una serie de valores de P1 aleatorios\n",
        "  for i in range(len(Parent1)):\n",
        "    volado=random.uniform(0,1)\n",
        "    if(volado<0.5):\n",
        "      Lista.append(Parent1[i])\n",
        "\n",
        "  #Creamos al hijo\n",
        "  Child1=copy.deepcopy(Parent2)\n",
        "\n",
        "  #Quitamos los valores de la lista\n",
        "  for i in range(len(Lista)):\n",
        "    Pos=Child1.index(Lista[i])\n",
        "    Child1[Pos]=-1\n",
        "\n",
        "  #Los Ordenamos de acuerdo a la lista\n",
        "  for i in range(len(Lista)):\n",
        "    Pos=Child1.index(-1)\n",
        "    Child1[Pos]=Lista[i]\n",
        "\n",
        "\n",
        "  #Repetimos para P2\n",
        "  #Creamos una lista vacia\n",
        "  Lista=[]\n",
        "  #Agregamos una serie de valores de P2 aleatorios\n",
        "  for i in range(len(Parent1)):\n",
        "    volado=random.uniform(0,1)\n",
        "    if(volado<0.5):\n",
        "      Lista.append(Parent2[i])\n",
        "\n",
        "\n",
        "  #Creamos al hijo\n",
        "  Child2=copy.deepcopy(Parent1)\n",
        "\n",
        "  #Quitamos los valores de la lista\n",
        "  for i in range(len(Lista)):\n",
        "    Pos=Child2.index(Lista[i])\n",
        "    Child2[Pos]=-1\n",
        "\n",
        "  #Los Ordenamos de acuerdo a la lista\n",
        "  for i in range(len(Lista)):\n",
        "    Pos=Child2.index(-1)\n",
        "    Child2[Pos]=Lista[i]\n",
        "\n",
        " #Enviamos los hijos\n",
        "  Childrens.append(Child1)\n",
        "  Childrens.append(Child2)\n",
        "\n",
        "  return Childrens\n",
        "\n"
      ],
      "metadata": {
        "id": "dADxizaA0Xc5"
      },
      "execution_count": null,
      "outputs": []
    },
    {
      "cell_type": "markdown",
      "source": [
        "#Evaluacion"
      ],
      "metadata": {
        "id": "yiUFAqQ4Jbn3"
      }
    },
    {
      "cell_type": "code",
      "execution_count": null,
      "metadata": {
        "id": "Uco0TRLMJSkj"
      },
      "outputs": [],
      "source": [
        "#Evalua un conjunto de Vectores\n",
        "def Evaluacion(Subject):\n",
        "  #Cargamos Grafos\n",
        "  \"\"\"Grafo=[[0,2,1,10,25],\n",
        "   [2,0,18,5,18],\n",
        "   [1,18,0,10,20],\n",
        "   [10,5,10,0,7],\n",
        "   [25,18,20,7,0]]\"\"\"\n",
        "  \"\"\"Grafo=[[0,300,180,300,460,250],\n",
        "   [300,0,160,140,360,150],\n",
        "   [180,160,0,200,290,100],\n",
        "   [300,140,200,0,200,150],\n",
        "   [460,360,290,200,0,360],\n",
        "   [250,150,100,150,360,0]]\"\"\"\n",
        "  Grafo=[[0,386,294,249,214,413,171,327,237,129],\n",
        "   [386,0,266,273,312,276,367,575,287,30],\n",
        "   [294,266,0,110,259,245,185,186,114,70],\n",
        "   [249,273,110,0,159,18,464,373,398,451],\n",
        "   [214,312,259,159,0,332,78,650,245,499],\n",
        "   [413,276,245,18,332,0,140,54,105,485],\n",
        "   [171,367,185,464,78,140,0,448,336,312],\n",
        "   [327,575,186,373,650,54,448,0,260,322],\n",
        "   [237,287,114,398,245,105,336,260,0,382],\n",
        "   [129,30,70,451,499,485,312,322,382,0]]\n",
        "\n",
        "  #Guardamos sus evaluaciones\n",
        "  Proficiency=[]\n",
        "  for i in range(0,len(Subject)):\n",
        "    suma=0\n",
        "    for j in range(0,len(Subject[0])-1):\n",
        "      suma+=Grafo[Subject[i][j]][Subject[i][j+1]]\n",
        "\n",
        "    suma+=Grafo[Subject[i][j+1]][Subject[i][0]]\n",
        "    Proficiency.append(suma)\n",
        "  return Proficiency"
      ]
    },
    {
      "cell_type": "markdown",
      "source": [
        "#Seleccion"
      ],
      "metadata": {
        "id": "BuLtCvJA1qx5"
      }
    },
    {
      "cell_type": "code",
      "source": [
        "#Ruleta\n",
        "def Ruleta(ProficiencyParents):\n",
        "  EsperadoIndividual=ValEspOriginal(ProficiencyParents)\n",
        "\n",
        "\n",
        "  CotaSuperior=Sumatoria(EsperadoIndividual)\n",
        "\n",
        "  ListadeCruce=[]\n",
        "\n",
        "  for i in range(len(ProficiencyParents)):\n",
        "\n",
        "    suma=0\n",
        "    r=random.uniform(0,CotaSuperior)\n",
        "    for j in range(len(ProficiencyParents)):\n",
        "      suma+=EsperadoIndividual[j]\n",
        "      if(suma>r):\n",
        "        ListadeCruce.append(j)\n",
        "        break\n",
        "\n",
        "  return(ListadeCruce)\n",
        "\n",
        "def ValEspOriginal(ProficiencyParents):\n",
        "  EsperadoIndividual=copy.deepcopy(ProficiencyParents)\n",
        "  ValEsperado=Sumatoria(ProficiencyParents)/len(ProficiencyParents)\n",
        "  for i in range(0,len(ProficiencyParents)):\n",
        "    EsperadoIndividual[i]=EsperadoIndividual[i]/ValEsperado\n",
        "\n",
        "  return EsperadoIndividual\n",
        "\n",
        "\n",
        "#Permite Realizar una suma\n",
        "def Sumatoria(Array):\n",
        "  Suma=0\n",
        "  for i in range(0,len(Array)):\n",
        "    Suma+=Array[i]\n",
        "  return(Suma)\n"
      ],
      "metadata": {
        "id": "o2AtskVy1rQN"
      },
      "execution_count": null,
      "outputs": []
    },
    {
      "cell_type": "code",
      "source": [
        "#Torneo\n",
        "def TorneoDet(ProficiencyParents):\n",
        "  ListadeCruce=[]\n",
        "  #Generamos un token a cada elemento\n",
        "  Peleadores=list(range(len(ProficiencyParents)))\n",
        "\n",
        "  #Mientras No obtengamos n elementos a cruzar\n",
        "  while(len(ProficiencyParents)>len(ListadeCruce)):\n",
        "    #Barajeamos\n",
        "    random.shuffle(Peleadores)\n",
        "\n",
        "    #Sucede el torneo\n",
        "    for i in range(0,int(len(Peleadores)/2)):\n",
        "      #Si el segundo es mejor que el primero:\n",
        "      if ProficiencyParents[Peleadores[2*i]]>ProficiencyParents[Peleadores[2*i+1]]:\n",
        "        #Se agrega\n",
        "        ListadeCruce.append(Peleadores[2*i+1])\n",
        "\n",
        "        #Condicion para evitar sobrecargar un poco la memoria solo generando n padres selectos\n",
        "        if len(ProficiencyParents)==len(ListadeCruce):\n",
        "          break\n",
        "      #Si el primero es mejor:\n",
        "      else:\n",
        "        #Se agrega\n",
        "        ListadeCruce.append(Peleadores[2*i])\n",
        "\n",
        "        #Condicion para evitar sobrecargar un poco la memoria solo generando n padres selectos\n",
        "        if len(ProficiencyParents)==len(ListadeCruce):\n",
        "          break\n",
        "\n",
        "  return ListadeCruce"
      ],
      "metadata": {
        "id": "Kt7DO72gR-Yj"
      },
      "execution_count": null,
      "outputs": []
    },
    {
      "cell_type": "code",
      "source": [
        "#Torneo\n",
        "def TorneoProb(ProficiencyParents):\n",
        "  ListadeCruce=[]\n",
        "  #Generamos un token a cada elemento\n",
        "  Peleadores=list(range(len(ProficiencyParents)))\n",
        "\n",
        "  #Mientras No obtengamos n elementos a cruzar\n",
        "  while(len(ProficiencyParents)>len(ListadeCruce)):\n",
        "    #Barajeamos\n",
        "    random.shuffle(Peleadores)\n",
        "\n",
        "    #Sucede el volado\n",
        "    for i in range(0,int(len(Peleadores)/2)):\n",
        "      r=random.uniform(0,1)\n",
        "      #Si el segundo gana:\n",
        "      if r<0.5:\n",
        "        #Se agrega\n",
        "        ListadeCruce.append(Peleadores[2*i+1])\n",
        "\n",
        "        #Condicion para evitar sobrecargar un poco la memoria solo generando n padres selectos\n",
        "        if len(ProficiencyParents)==len(ListadeCruce):\n",
        "          break\n",
        "      #Si el primero gana:\n",
        "      else:\n",
        "        #Se agrega\n",
        "        ListadeCruce.append(Peleadores[2*i])\n",
        "\n",
        "        #Condicion para evitar sobrecargar un poco la memoria solo generando n padres selectos\n",
        "        if len(ProficiencyParents)==len(ListadeCruce):\n",
        "          break\n",
        "\n",
        "  return ListadeCruce"
      ],
      "metadata": {
        "id": "8y9ogQiBVifi"
      },
      "execution_count": null,
      "outputs": []
    },
    {
      "cell_type": "markdown",
      "source": [
        "#Mutacion"
      ],
      "metadata": {
        "id": "2vY_aEp9VnFK"
      }
    },
    {
      "cell_type": "markdown",
      "source": [
        "##Permutacion Simple"
      ],
      "metadata": {
        "id": "0WBt0rS0htTs"
      }
    },
    {
      "cell_type": "code",
      "source": [
        "#Permutacion\n",
        "def Permutacion(Elemento):\n",
        "  Mutated=copy.deepcopy(Elemento)\n",
        "\n",
        "  #Agaramos dos elementos aleatorios diferentes\n",
        "  a=random.randrange(len(Elemento))\n",
        "  b=random.randrange(len(Elemento))\n",
        "  while(b==a):\n",
        "    b=random.randrange(len(Elemento))\n",
        "\n",
        "  #Intercambiamos elementos\n",
        "  Aux=Mutated[a]\n",
        "  Mutated[a]=Mutated[b]\n",
        "  Mutated[b]=Aux\n",
        "\n",
        "  #Retornamos la mutacion\n",
        "  return Mutated\n"
      ],
      "metadata": {
        "id": "ZpFBDQ6Z77Z5"
      },
      "execution_count": null,
      "outputs": []
    },
    {
      "cell_type": "markdown",
      "source": [
        "##Desplazamiento"
      ],
      "metadata": {
        "id": "ZsvVhA7Uhv8v"
      }
    },
    {
      "cell_type": "code",
      "source": [
        "#Desplazamiento\n",
        "def Desplazamiento(Elemento):\n",
        "  #Copiamos al que se mutara\n",
        "  Mutated=copy.deepcopy(Elemento)\n",
        "\n",
        "  #Seleccionamos cuantos elementos se intercambiaran (Aleatorio)\n",
        "  Aleatorio=int(random.randrange(2,len(Elemento))/2)\n",
        "\n",
        "  #Se crea una lista con los elementos a intercambiar\n",
        "  ListadeCambio=[]\n",
        "  #Mientras no se llene\n",
        "  while(len(ListadeCambio)!=2*Aleatorio):\n",
        "    #Seleccionamos un aleatorio\n",
        "    Selected=random.randrange(len(Elemento))\n",
        "    #Vemos si no es repetido\n",
        "    if(Selected not in ListadeCambio):\n",
        "      #Si no es repetido, se agrega a la lista\n",
        "      ListadeCambio.append(Selected)\n",
        "\n",
        "  #intercambiamos siguiendo el orden de la lista de cambio\n",
        "  for i in range(0,Aleatorio):\n",
        "    a=ListadeCambio[2*i]\n",
        "    b=ListadeCambio[2*i+1]\n",
        "\n",
        "    Aux=Mutated[a]\n",
        "    Mutated[a]=Mutated[b]\n",
        "    Mutated[b]=Aux\n",
        "\n",
        "  #retornamos el elemento mutado\n",
        "  return Mutated"
      ],
      "metadata": {
        "id": "nkddcsa0hwac"
      },
      "execution_count": null,
      "outputs": []
    },
    {
      "cell_type": "markdown",
      "source": [
        "##Heuristica"
      ],
      "metadata": {
        "id": "I_GUWD7Rhv7s"
      }
    },
    {
      "cell_type": "code",
      "source": [
        "#Heuristica\n",
        "def Heuristica(Elemento):\n",
        "  ElemHeu=copy.deepcopy(Elemento)\n",
        "\n",
        "  #Para que la memoria no explote\n",
        "  if len(Elemento)>5:\n",
        "    k=5\n",
        "  else:\n",
        "    k=len(Elemento)\n",
        "\n",
        "  #Seleccionamos una cantidad lambda\n",
        "  Lambda=random.randrange(1,k)\n",
        "\n",
        "  #Seleccionamos una cantidad de lambda numeros diferentes\n",
        "  Seleccion=[]\n",
        "  for i in range(0,Lambda):\n",
        "    k=random.randrange(len(Elemento))\n",
        "    #Si se repite\n",
        "    while(k in Seleccion):\n",
        "      k=random.randrange(len(Elemento))\n",
        "    Seleccion.append(k)\n",
        "\n",
        "    #Ponemos un identificador a el elemento\n",
        "    Ub=ElemHeu.index(k)\n",
        "    ElemHeu[Ub]=-1\n",
        "\n",
        "  #Permutamos\n",
        "  if Lambda==1:\n",
        "    Permutaciones=[[Seleccion[0]]]\n",
        "  else:\n",
        "    Permutaciones=list(itertools.permutations(Seleccion))\n",
        "\n",
        "\n",
        "  #Obtenemos todos los valores permutados\n",
        "  MutComp=[]\n",
        "  for i in range(len(Permutaciones)):\n",
        "    #Generamos a una posible mutacion\n",
        "    Copia=copy.deepcopy(ElemHeu)\n",
        "    #Agregamos la permitacion\n",
        "    for j in range(len(Permutaciones[0])):\n",
        "      ub=Copia.index(-1)\n",
        "      Copia[ub]=Permutaciones[i][j]\n",
        "    #Generamos una lista de todos\n",
        "    MutComp.append(Copia)\n",
        "\n",
        "  ProficiencyMut=Evaluacion(MutComp)\n",
        "\n",
        "\n",
        "  Minimo=min(ProficiencyMut)\n",
        "  Ub=ProficiencyMut.index(Minimo)\n",
        "\n",
        "  return MutComp[Ub]"
      ],
      "metadata": {
        "id": "XHM-ta9uhw3d"
      },
      "execution_count": null,
      "outputs": []
    },
    {
      "cell_type": "markdown",
      "source": [
        "#Supervivencia"
      ],
      "metadata": {
        "id": "HQN3KJ0C9b2c"
      }
    },
    {
      "cell_type": "code",
      "source": [
        "def Supervivencia(Parents,Childrens,ProficiencyParents,ProficiencyChildren):\n",
        "  #Combinamos y guardamos sus aptitudes\n",
        "  Proficiency=[]\n",
        "  for i in range(0,len(ProficiencyParents)):\n",
        "    Proficiency.append(ProficiencyParents[i])\n",
        "  for i in range(0,len(ProficiencyChildren)):\n",
        "    Proficiency.append(ProficiencyChildren[i])\n",
        "  #Combinamos y Guardamos a la poblacion\n",
        "  Population=[]\n",
        "  for i in range(0,len(Parents)):\n",
        "    Population.append(Parents[i])\n",
        "  for i in range(0,len(Childrens)):\n",
        "    Population.append(Childrens[i])\n",
        "\n",
        "  #Escogemos a los nuevos padres y matamos a los peores\n",
        "  NewFathers=[]\n",
        "  for i in range(0,len(Parents)):\n",
        "        c=min(Proficiency)\n",
        "        for j in range(0,len(Proficiency)):\n",
        "            if(Proficiency[j]==c):\n",
        "                NewFathers.append(Population[j])\n",
        "                Proficiency[j]=100000000000000000000001\n",
        "                break\n",
        "\n",
        "  #Reevaluamos\n",
        "  NewProficiencyParents=Evaluacion(NewFathers)\n",
        "\n",
        "  return NewFathers,NewProficiencyParents"
      ],
      "metadata": {
        "id": "8i-ucmE89ehm"
      },
      "execution_count": null,
      "outputs": []
    },
    {
      "cell_type": "markdown",
      "source": [
        "#Codigo Principal"
      ],
      "metadata": {
        "id": "v-vNQJRRJasA"
      }
    },
    {
      "cell_type": "code",
      "source": [
        "pip install xlwt"
      ],
      "metadata": {
        "colab": {
          "base_uri": "https://localhost:8080/"
        },
        "id": "zJx95zevx6Rc",
        "outputId": "e8f9ed5c-5370-4277-f168-34466a9d2bb2"
      },
      "execution_count": null,
      "outputs": [
        {
          "output_type": "stream",
          "name": "stdout",
          "text": [
            "Collecting xlwt\n",
            "  Downloading xlwt-1.3.0-py2.py3-none-any.whl (99 kB)\n",
            "\u001b[?25l     \u001b[90m━━━━━━━━━━━━━━━━━━━━━━━━━━━━━━━━━━━━━━━━\u001b[0m \u001b[32m0.0/100.0 kB\u001b[0m \u001b[31m?\u001b[0m eta \u001b[36m-:--:--\u001b[0m\r\u001b[2K     \u001b[90m━━━━━━━━━━━━━━━━━━━━━━━━━━━━━━━━━━━━━━━━\u001b[0m \u001b[32m100.0/100.0 kB\u001b[0m \u001b[31m3.3 MB/s\u001b[0m eta \u001b[36m0:00:00\u001b[0m\n",
            "\u001b[?25hInstalling collected packages: xlwt\n",
            "Successfully installed xlwt-1.3.0\n"
          ]
        }
      ]
    },
    {
      "cell_type": "code",
      "source": [
        "#Escuela Superior de Fisico y Matematicas\n",
        "#Licenciatura En Matematica Algoritmica\n",
        "#Fundamentos de la inteligencia Artificial\n",
        "#Profesora: Lourdes Fabiola Uribe Richaud\n",
        "#Alumno:\n",
        "    #Victor Hugo Martinez Huicochea\n",
        "\n",
        "#Importamos librerias\n",
        "import sympy\n",
        "import copy\n",
        "import random\n",
        "import xlwt\n",
        "from google.colab import files\n",
        "\n",
        "#Iniciamos Algoritmo\n",
        "if __name__ == \"__main__\":\n",
        "  #Creamos padres\n",
        "  random.seed(110)\n",
        "  #G=4\n",
        "  #G=5\n",
        "  G=9\n",
        "  NumberOfTotalParents=10\n",
        "  NumberOfTotalSons=10\n",
        "  Generation=0\n",
        "  MaxGeneration=500\n",
        "\n",
        "  wb=xlwt.Workbook()\n",
        "  sheet1 = wb.add_sheet(\"Sheet 1\")\n",
        "  sheet1.write(0,0,\"Desplazamiento\")\n",
        "  sheet1.write(0,1,\"Generacion\")\n",
        "  sheet1.write(0,2,\"Resultado\")\n",
        "\n",
        "\n",
        "\n",
        "  for q in range (0,30):\n",
        "    Generation=0\n",
        "    Parents=[]\n",
        "    #Cremos una lista de arreglos que vaya del 0 al tamaño del grafo\n",
        "\n",
        "    for i in range(NumberOfTotalParents):\n",
        "      ParentSol=list(range(G+1))\n",
        "      random.shuffle(ParentSol)\n",
        "      Parents.append(ParentSol)\n",
        "\n",
        "    #Evaluamos Padres\n",
        "    ProficiencyParents=Evaluacion(Parents)\n",
        "\n",
        "    #Buscamos el minimo\n",
        "    RES=min(ProficiencyParents)\n",
        "\n",
        "    while(RES!=1226 and Generation!=500):\n",
        "\n",
        "      #Buscamos a los padres para ir a la mating pool\n",
        "      Childrens=[]\n",
        "\n",
        "      ListadeCruce=Ruleta(ProficiencyParents)\n",
        "      #De la lista de cruce se escojen 2 a cruzar\n",
        "      for i in range(0,int(len(ListadeCruce)/2)):\n",
        "        SelecteParent1=ListadeCruce[2*i]\n",
        "        SelecteParent2=ListadeCruce[2*i+1]\n",
        "\n",
        "        #Childrens=Partially(Parents[SelecteParent1],Parents[SelecteParent2],Childrens)\n",
        "        #Childrens=Position(Parents[SelecteParent1],Parents[SelecteParent2],Childrens)\n",
        "        Childrens=Ordered(Parents[SelecteParent1],Parents[SelecteParent2],Childrens)\n",
        "\n",
        "\n",
        "\n",
        "      #Mutamos:\n",
        "      for i in range(0,len(Childrens)):\n",
        "        Volado=random.uniform(0,1)\n",
        "        if(Volado<0.5):\n",
        "          #Childrens[i]=Permutacion(Childrens[i])\n",
        "          #Childrens[i]=Heuristica(Childrens[i])\n",
        "          Childrens[i]=Desplazamiento(Childrens[i])\n",
        "\n",
        "      #Obtenemos la aptitud de los hijos\n",
        "      ProficiencyChildren=Evaluacion(Childrens)\n",
        "      #Generamos nuevos padres\n",
        "\n",
        "      Parents,ProficiencyParents=Supervivencia(Parents,Childrens,ProficiencyParents,ProficiencyChildren)\n",
        "\n",
        "\n",
        "      #Aumentamos generacion\n",
        "      Generation+=1\n",
        "\n",
        "      #Obtenemos el Minimo\n",
        "      RES=min(ProficiencyParents)\n",
        "      c=min(ProficiencyParents)\n",
        "      for i in range(0,len(Parents)):\n",
        "        if(c==ProficiencyParents[i]):\n",
        "          c=i\n",
        "          break\n",
        "\n",
        "\n",
        "      #print(\"Generacion numero: \",Generation,\"Mejor Punto Alcanzado:\",Parents[i], \" Evaluado da:\", min(ProficiencyParents))\n",
        "    sheet1.write(q+1,1,Generation)\n",
        "    sheet1.write(q+1,2,RES)\n",
        "  wb.save(\"Grafo_3_Desplazamiento.xls\")\n",
        "  files.download(\"Grafo_3_Desplazamiento.xls\")\n",
        "\n",
        "  print(\"Fin del programa\")"
      ],
      "metadata": {
        "colab": {
          "base_uri": "https://localhost:8080/",
          "height": 34
        },
        "id": "c18qi_ADx6KG",
        "outputId": "7bead6e9-187e-4d81-dc86-72b3c3fc6203"
      },
      "execution_count": null,
      "outputs": [
        {
          "output_type": "display_data",
          "data": {
            "text/plain": [
              "<IPython.core.display.Javascript object>"
            ],
            "application/javascript": [
              "\n",
              "    async function download(id, filename, size) {\n",
              "      if (!google.colab.kernel.accessAllowed) {\n",
              "        return;\n",
              "      }\n",
              "      const div = document.createElement('div');\n",
              "      const label = document.createElement('label');\n",
              "      label.textContent = `Downloading \"${filename}\": `;\n",
              "      div.appendChild(label);\n",
              "      const progress = document.createElement('progress');\n",
              "      progress.max = size;\n",
              "      div.appendChild(progress);\n",
              "      document.body.appendChild(div);\n",
              "\n",
              "      const buffers = [];\n",
              "      let downloaded = 0;\n",
              "\n",
              "      const channel = await google.colab.kernel.comms.open(id);\n",
              "      // Send a message to notify the kernel that we're ready.\n",
              "      channel.send({})\n",
              "\n",
              "      for await (const message of channel.messages) {\n",
              "        // Send a message to notify the kernel that we're ready.\n",
              "        channel.send({})\n",
              "        if (message.buffers) {\n",
              "          for (const buffer of message.buffers) {\n",
              "            buffers.push(buffer);\n",
              "            downloaded += buffer.byteLength;\n",
              "            progress.value = downloaded;\n",
              "          }\n",
              "        }\n",
              "      }\n",
              "      const blob = new Blob(buffers, {type: 'application/binary'});\n",
              "      const a = document.createElement('a');\n",
              "      a.href = window.URL.createObjectURL(blob);\n",
              "      a.download = filename;\n",
              "      div.appendChild(a);\n",
              "      a.click();\n",
              "      div.remove();\n",
              "    }\n",
              "  "
            ]
          },
          "metadata": {}
        },
        {
          "output_type": "display_data",
          "data": {
            "text/plain": [
              "<IPython.core.display.Javascript object>"
            ],
            "application/javascript": [
              "download(\"download_d398e4c8-edce-46ef-8ddb-b10ad2234bc5\", \"Grafo_3_Desplazamiento.xls\", 5632)"
            ]
          },
          "metadata": {}
        },
        {
          "output_type": "stream",
          "name": "stdout",
          "text": [
            "Fin del programa\n"
          ]
        }
      ]
    },
    {
      "cell_type": "markdown",
      "source": [
        "#Pruebas"
      ],
      "metadata": {
        "id": "Dq_3qcHYrKHN"
      }
    },
    {
      "cell_type": "code",
      "source": [
        "import sympy\n",
        "import copy\n",
        "import random\n",
        "import itertools\n",
        "\n",
        "\n",
        "\n",
        "#Iniciamos Algoritmo\n",
        "if __name__ == \"__main__\":\n",
        "  PadresTotales=[]\n",
        "  G=4\n",
        "  Childs=[]\n",
        "\n",
        "  Padre1=[3,4,0,1,2]\n",
        "  Padre2=[0,1,2,3,4,5,6,7,8,9]\n",
        "\n",
        "  Mutacion=Desplazamiento(Padre2)\n",
        "\n",
        "  #Mutacion=Heuristica(Padre2)\n",
        "  print(Mutacion)"
      ],
      "metadata": {
        "colab": {
          "base_uri": "https://localhost:8080/"
        },
        "id": "gRDCWRdgiJVk",
        "outputId": "f9b0c3de-b190-4d8a-b7da-8143eaef12b1"
      },
      "execution_count": null,
      "outputs": [
        {
          "output_type": "stream",
          "name": "stdout",
          "text": [
            "[5, 7, 2, 8, 6, 0, 4, 1, 3, 9]\n"
          ]
        }
      ]
    }
  ]
}