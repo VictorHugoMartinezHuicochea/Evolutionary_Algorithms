{
  "nbformat": 4,
  "nbformat_minor": 0,
  "metadata": {
    "colab": {
      "provenance": [],
      "toc_visible": true
    },
    "kernelspec": {
      "name": "python3",
      "display_name": "Python 3"
    },
    "language_info": {
      "name": "python"
    }
  },
  "cells": [
    {
      "cell_type": "markdown",
      "source": [
        "#Cruza"
      ],
      "metadata": {
        "id": "wGmPc-i_8s4T"
      }
    },
    {
      "cell_type": "code",
      "execution_count": 2,
      "metadata": {
        "id": "4hDurdqA8FCa"
      },
      "outputs": [],
      "source": [
        "#Cruzamos por cruzamiento sencillo\n",
        "def Cruzamiento(Parent1,Parent2,Childrens):\n",
        "  n=len(Parent1)-1\n",
        "\n",
        "  #Creamos a los hijos\n",
        "  Child1=copy.deepcopy(Parent1)\n",
        "  Child2=copy.deepcopy(Parent2)\n",
        "\n",
        "  #El ultimo valor del vector se intercambia, generando dos hijos\n",
        "  Auxiliar=Child1[n]\n",
        "  Child1[n]=Child2[n]\n",
        "  Child2[n]=Auxiliar\n",
        "\n",
        "  #Enviamos a los hijos\n",
        "  Childrens.append(Child1)\n",
        "  Childrens.append(Child2)\n",
        "\n",
        "\n",
        "\n",
        "  return Childrens\n"
      ]
    },
    {
      "cell_type": "markdown",
      "source": [
        "#Mutacion Uniforme"
      ],
      "metadata": {
        "id": "t8AL-ymk9DTq"
      }
    },
    {
      "cell_type": "code",
      "source": [
        "#Iniciamos la mutacion uniforme\n",
        "def MutacionUniforme(Padre,Lower,Upper,Generation,MaxGeneration):\n",
        "  Mutated=copy.deepcopy(Padre);\n",
        "\n",
        "  #Establecemos otro volado\n",
        "  volado=random.uniform(0,1)\n",
        "  ModifiedElement=random.randrange(2)\n",
        "  #Especificamos suma o resta y Mutamos\n",
        "  if (volado<0.5):\n",
        "    Element=Upper[ModifiedElement]-Mutated[ModifiedElement]\n",
        "    Mutated[ModifiedElement]=Mutated[ModifiedElement]+DeltaOperation(Generation,Element,MaxGeneration)\n",
        "  else:\n",
        "    Element=Mutated[ModifiedElement]-Lower[ModifiedElement]\n",
        "    Mutated[ModifiedElement]=Mutated[ModifiedElement]-DeltaOperation(Generation,Element,MaxGeneration)\n",
        "\n",
        "  #Retornamos Vector\n",
        "  return(Mutated)\n",
        "\n",
        "\n",
        "\n",
        "def DeltaOperation(Generation,Element,MaxGeneration):\n",
        "  r=random.uniform(0,1)\n",
        "  Delta=Element*(1-(r**(1-(Generation/MaxGeneration)**5)))\n",
        "  return Delta"
      ],
      "metadata": {
        "id": "eTa5o1119IOc"
      },
      "execution_count": 3,
      "outputs": []
    },
    {
      "cell_type": "markdown",
      "source": [
        "#Evaluacion"
      ],
      "metadata": {
        "id": "bPOW4Enc9iws"
      }
    },
    {
      "cell_type": "code",
      "source": [
        "#Evalua un conjunto de Vectores\n",
        "def Evaluacion(Subject):\n",
        "\n",
        "  #Guardamos sus evaluaciones\n",
        "  Proficiency=[]\n",
        "  Pi=3.1415926535\n",
        "  m=10\n",
        "  for i in range(0,len(Subject)):\n",
        "    suma=0\n",
        "    for j in range(0,len(Subject[0])):\n",
        "      if(Subject[i][j]<0):\n",
        "        Elemento=-Subject[i][j]\n",
        "      else:\n",
        "        Elemento=Subject[i][j]\n",
        "      suma+=Elemento**(j+2)\n",
        "    Evaluation=suma\n",
        "\n",
        "    \"\"\"suma=0\n",
        "    for j in range(0,len(Subject[0])):\n",
        "      suma+=float(-numpy.sin(Subject[i][j])*(numpy.sin(((j+1)*Subject[i][j]**2)/Pi)**(2*m)))\n",
        "\n",
        "    Evaluation=suma\"\"\"\n",
        "    Proficiency.append(Evaluation)\n",
        "  return Proficiency\n"
      ],
      "metadata": {
        "id": "A1ziOIU29mqp"
      },
      "execution_count": 18,
      "outputs": []
    },
    {
      "cell_type": "markdown",
      "source": [
        "#Supervivencia"
      ],
      "metadata": {
        "id": "4DDrcszl9vNT"
      }
    },
    {
      "cell_type": "code",
      "source": [
        "\n",
        "def Supervivencia(Parents,Childrens,ProficiencyParents,ProficiencyChildren):\n",
        "  #Combinamos y guardamos sus aptitudes\n",
        "  Proficiency=[]\n",
        "  for i in range(0,len(ProficiencyParents)):\n",
        "    Proficiency.append(ProficiencyParents[i])\n",
        "  for i in range(0,len(ProficiencyChildren)):\n",
        "    Proficiency.append(ProficiencyChildren[i])\n",
        "  #Combinamos y Guardamos a la poblacion\n",
        "  Population=[]\n",
        "  for i in range(0,len(Parents)):\n",
        "    Population.append(Parents[i])\n",
        "  for i in range(0,len(Childrens)):\n",
        "    Population.append(Childrens[i])\n",
        "\n",
        "  #Escogemos a los nuevos padres y matamos a los peores\n",
        "  NewFathers=[]\n",
        "  for i in range(0,len(Parents)):\n",
        "        c=min(Proficiency)\n",
        "        for j in range(0,len(Proficiency)):\n",
        "            if(Proficiency[j]==c):\n",
        "                NewFathers.append(Population[j])\n",
        "                Proficiency[j]=100000000000000000000001\n",
        "                break\n",
        "\n",
        "  #Reevaluamos\n",
        "  NewProficiencyParents=Evaluacion(NewFathers)\n",
        "\n",
        "  return NewFathers,NewProficiencyParents"
      ],
      "metadata": {
        "id": "UhQpWk2k9xy5"
      },
      "execution_count": 5,
      "outputs": []
    },
    {
      "cell_type": "markdown",
      "source": [
        "#Seleccion\n",
        "Algunas Funciones utiles para seleccion.\n",
        "\n",
        "Los metodos Merge y Mergesort, fueron obtenidos De:\n",
        "\n",
        "GeeksforGeeks. (2023). Python program for Merge Sort. GeeksforGeeks. Recuperado el 19 de Octubre del 2023 de: https://www.geeksforgeeks.org/python-program-for-merge-sort/"
      ],
      "metadata": {
        "id": "m9QQdyL_-CaK"
      }
    },
    {
      "cell_type": "code",
      "source": [
        "#Permite Realizar una suma\n",
        "def Sumatoria(Array):\n",
        "  Suma=0\n",
        "  for i in range(0,len(Array)):\n",
        "    Suma+=Array[i]\n",
        "  return(Suma)\n",
        "\n",
        "#Recuperado de GeeksforGeeks\n",
        "\n",
        "def merge(arr, l, m, r):\n",
        "    n1 = m - l + 1\n",
        "    n2 = r - m\n",
        "\n",
        "    # create temp arrays\n",
        "    L = [0] * (n1)\n",
        "    R = [0] * (n2)\n",
        "\n",
        "    # Copy data to temp arrays L[] and R[]\n",
        "    for i in range(0, n1):\n",
        "        L[i] = arr[l + i]\n",
        "\n",
        "    for j in range(0, n2):\n",
        "        R[j] = arr[m + 1 + j]\n",
        "\n",
        "    # Merge the temp arrays back into arr[l..r]\n",
        "    i = 0     # Initial index of first subarray\n",
        "    j = 0     # Initial index of second subarray\n",
        "    k = l     # Initial index of merged subarray\n",
        "\n",
        "    while i < n1 and j < n2:\n",
        "        if L[i] <= R[j]:\n",
        "            arr[k] = L[i]\n",
        "            i += 1\n",
        "        else:\n",
        "            arr[k] = R[j]\n",
        "            j += 1\n",
        "        k += 1\n",
        "\n",
        "    # Copy the remaining elements of L[], if there\n",
        "    # are any\n",
        "    while i < n1:\n",
        "        arr[k] = L[i]\n",
        "        i += 1\n",
        "        k += 1\n",
        "\n",
        "    # Copy the remaining elements of R[], if there\n",
        "    # are any\n",
        "    while j < n2:\n",
        "        arr[k] = R[j]\n",
        "        j += 1\n",
        "        k += 1\n",
        "\n",
        "# l is for left index and r is right index of the\n",
        "# sub-array of arr to be sorted\n",
        "\n",
        "\n",
        "def mergeSort(arr, l, r):\n",
        "    if l < r:\n",
        "\n",
        "        # Same as (l+r)//2, but avoids overflow for\n",
        "        # large l and h\n",
        "        m = l+(r-l)//2\n",
        "\n",
        "        # Sort first and second halves\n",
        "        mergeSort(arr, l, m)\n",
        "        mergeSort(arr, m+1, r)\n",
        "        merge(arr, l, m, r)"
      ],
      "metadata": {
        "id": "668P93va-TDo"
      },
      "execution_count": 6,
      "outputs": []
    },
    {
      "cell_type": "markdown",
      "source": [
        "##Torneo\n"
      ],
      "metadata": {
        "id": "jOcyuwmgTgHg"
      }
    },
    {
      "cell_type": "markdown",
      "source": [
        "###Probabilistico"
      ],
      "metadata": {
        "id": "dOPTa_IGTwvC"
      }
    },
    {
      "cell_type": "code",
      "source": [
        "#Torneo\n",
        "def TorneoProb(ProficiencyParents):\n",
        "  ListadeCruce=[]\n",
        "  #Generamos un token a cada elemento\n",
        "  Peleadores=list(range(len(ProficiencyParents)))\n",
        "\n",
        "  #Mientras No obtengamos n elementos a cruzar\n",
        "  while(len(ProficiencyParents)>len(ListadeCruce)):\n",
        "    #Barajeamos\n",
        "    random.shuffle(Peleadores)\n",
        "\n",
        "    #Sucede el volado\n",
        "    for i in range(0,int(len(Peleadores)/2)):\n",
        "      r=random.uniform(0,1)\n",
        "      #Si el segundo gana:\n",
        "      if r<0.5:\n",
        "        #Se agrega\n",
        "        ListadeCruce.append(Peleadores[2*i+1])\n",
        "\n",
        "        #Condicion para evitar sobrecargar un poco la memoria solo generando n padres selectos\n",
        "        if len(ProficiencyParents)==len(ListadeCruce):\n",
        "          break\n",
        "      #Si el primero gana:\n",
        "      else:\n",
        "        #Se agrega\n",
        "        ListadeCruce.append(Peleadores[2*i])\n",
        "\n",
        "        #Condicion para evitar sobrecargar un poco la memoria solo generando n padres selectos\n",
        "        if len(ProficiencyParents)==len(ListadeCruce):\n",
        "          break\n",
        "\n",
        "  return ListadeCruce"
      ],
      "metadata": {
        "id": "Dcccahq0Tksb"
      },
      "execution_count": 7,
      "outputs": []
    },
    {
      "cell_type": "markdown",
      "source": [
        "###Deterministico"
      ],
      "metadata": {
        "id": "qVzEVklLTlCS"
      }
    },
    {
      "cell_type": "code",
      "source": [
        "#Torneo\n",
        "def TorneoDet(ProficiencyParents):\n",
        "  ListadeCruce=[]\n",
        "  #Generamos un token a cada elemento\n",
        "  Peleadores=list(range(len(ProficiencyParents)))\n",
        "\n",
        "  #Mientras No obtengamos n elementos a cruzar\n",
        "  while(len(ProficiencyParents)>len(ListadeCruce)):\n",
        "    #Barajeamos\n",
        "    random.shuffle(Peleadores)\n",
        "\n",
        "    #Sucede el torneo\n",
        "    for i in range(0,int(len(Peleadores)/2)):\n",
        "      #Si el segundo es mejor que el primero:\n",
        "      if ProficiencyParents[Peleadores[2*i]]>ProficiencyParents[Peleadores[2*i+1]]:\n",
        "        #Se agrega\n",
        "        ListadeCruce.append(Peleadores[2*i+1])\n",
        "\n",
        "        #Condicion para evitar sobrecargar un poco la memoria solo generando n padres selectos\n",
        "        if len(ProficiencyParents)==len(ListadeCruce):\n",
        "          break\n",
        "      #Si el primero es mejor:\n",
        "      else:\n",
        "        #Se agrega\n",
        "        ListadeCruce.append(Peleadores[2*i])\n",
        "\n",
        "        #Condicion para evitar sobrecargar un poco la memoria solo generando n padres selectos\n",
        "        if len(ProficiencyParents)==len(ListadeCruce):\n",
        "          break\n",
        "\n",
        "  return ListadeCruce"
      ],
      "metadata": {
        "id": "GbdaG7XNT0ca"
      },
      "execution_count": 8,
      "outputs": []
    },
    {
      "cell_type": "markdown",
      "source": [
        "##Ruleta"
      ],
      "metadata": {
        "id": "pyuajSaS-cow"
      }
    },
    {
      "cell_type": "code",
      "source": [
        "#Ruleta\n",
        "def Ruleta(ProficiencyParents):\n",
        "  EsperadoIndividual=ValEspOriginal(ProficiencyParents)\n",
        "\n",
        "\n",
        "  CotaSuperior=Sumatoria(EsperadoIndividual)\n",
        "\n",
        "  ListadeCruce=[]\n",
        "\n",
        "  for i in range(len(ProficiencyParents)):\n",
        "\n",
        "    suma=0\n",
        "    r=random.uniform(0,CotaSuperior)\n",
        "    for j in range(len(ProficiencyParents)):\n",
        "      suma+=EsperadoIndividual[j]\n",
        "      if(suma>r):\n",
        "        ListadeCruce.append(j)\n",
        "        break\n",
        "\n",
        "  return(ListadeCruce)\n",
        "\n"
      ],
      "metadata": {
        "id": "OnuE6SFI-Du6"
      },
      "execution_count": 9,
      "outputs": []
    },
    {
      "cell_type": "markdown",
      "source": [
        "##Sobrante Estocastico"
      ],
      "metadata": {
        "id": "Il-jJ4VGEYPK"
      }
    },
    {
      "cell_type": "markdown",
      "source": [
        "###Sobrante Estocastico Original"
      ],
      "metadata": {
        "id": "8tI3cjpUzYLd"
      }
    },
    {
      "cell_type": "code",
      "source": [
        "def SobranteEstocastico(ProficiencyParents):\n",
        "  ListadeCruce=[]\n",
        "  #Obtenemos el valor esperado\n",
        "  EsperadoIndividual=ValEspOriginal(ProficiencyParents)\n",
        "  IntegerPart=copy.deepcopy(EsperadoIndividual)\n",
        "\n",
        "\n",
        "  #Obtenemos la parte entera de las aptitudes\n",
        "  for i in range(0,len(EsperadoIndividual)):\n",
        "    IntegerPart[i]=int(IntegerPart[i])\n",
        "\n",
        "  #Eliminamos parte entera\n",
        "  for i in range(0,len(ProficiencyParents)):\n",
        "    #Tambien anadimos el elemento a la lista de cruce\n",
        "    if (IntegerPart[i]>=1 and len(ProficiencyParents)>len(ListadeCruce)):\n",
        "      EsperadoIndividual[i]=EsperadoIndividual[i]-IntegerPart[i]\n",
        "      #Dependiendo de su entero aparece\n",
        "      for j in range(0,IntegerPart[i]):\n",
        "        ListadeCruce.append(i)\n",
        "\n",
        "\n",
        "  EspIdnvOrdenado=copy.deepcopy(EsperadoIndividual)\n",
        "  mergeSort(EspIdnvOrdenado,0,len(ProficiencyParents)-1)\n",
        "\n",
        "  CotaSuperior=EspIdnvOrdenado[len(ProficiencyParents)-1]\n",
        "\n",
        "\n",
        "  for i in range(len(ListadeCruce),len(ProficiencyParents)):\n",
        "    r=random.uniform(0,CotaSuperior)\n",
        "    for j in range(len(ProficiencyParents)):\n",
        "      if(r<EspIdnvOrdenado[j]):\n",
        "        Ubicacion=EsperadoIndividual.index(EspIdnvOrdenado[j])\n",
        "        ListadeCruce.append(Ubicacion)\n",
        "        break\n",
        "\n",
        "\n",
        "\n",
        "  return(ListadeCruce)\n",
        "\n"
      ],
      "metadata": {
        "id": "JjHoO-rMErPg"
      },
      "execution_count": 10,
      "outputs": []
    },
    {
      "cell_type": "markdown",
      "source": [
        "###Sobrante Estocastico con Jerarquia"
      ],
      "metadata": {
        "id": "QmrAZ8mzzWzl"
      }
    },
    {
      "cell_type": "code",
      "source": [
        "def SobEstJer(ProficiencyParents):\n",
        "  ListadeCruce=[]\n",
        "\n",
        "  #Copiamos El array\n",
        "  EsperadoOrdenado=copy.deepcopy(ProficiencyParents)\n",
        "\n",
        "  #Como es jerarquia lo ordenamos (Lo copiamos dos veces por busqueda)\n",
        "  mergeSort(EsperadoOrdenado,0,len(ProficiencyParents)-1)\n",
        "\n",
        "  \"\"\"print(\"Lista de Aptitudes Ordenada:\",EsperadoOrdenado)\"\"\"\n",
        "\n",
        "  EsperadoIndividual=copy.deepcopy(EsperadoOrdenado)\n",
        "\n",
        "\n",
        "\n",
        "  #Obtenemos el valor esperado y modificamos la segunda copia, tambien copiamos para obtener sus enteros\n",
        "  EsperadoIndividual=ValEspJerarquia(EsperadoIndividual)\n",
        "  IntegerPart=copy.deepcopy(EsperadoIndividual)\n",
        "\n",
        "\n",
        "\n",
        "  #Obtenemos la parte entera de las aptitudes\n",
        "  for i in range(0,len(EsperadoIndividual)):\n",
        "    IntegerPart[i]=int(IntegerPart[i])\n",
        "\n",
        "  \"\"\"print(\"Parte Entera:\",IntegerPart)\"\"\"\n",
        "\n",
        "  #Eliminamos parte entera\n",
        "  for i in range(0,len(ProficiencyParents)):\n",
        "    #Tambien anadimos el elemento a la lista de cruce\n",
        "    if (IntegerPart[i]>=1 and len(ProficiencyParents)>len(ListadeCruce)):\n",
        "      EsperadoIndividual[i]=EsperadoIndividual[i]-IntegerPart[i]\n",
        "      #Dependiendo de su entero agregamos n veces\n",
        "      for j in range(0,IntegerPart[i]):\n",
        "        #I concuerda entre el valor esperado y  el Esperado ordenado, pero no con\n",
        "        #la ubicacion de los padres, por lo que obtenemos su ubicacion en el array de padres\n",
        "        #Desordenados con Index y agregamos la direccion a la lista de cruce\n",
        "        Ubicacion=ProficiencyParents.index(EsperadoOrdenado[i])\n",
        "        ListadeCruce.append(Ubicacion)\n",
        "  \"\"\"print(\"EsperadoIndividual Luego de Quitar enteros:\",EsperadoIndividual)\n",
        "  print(\"Lista De Cruce Primera Parte\",ListadeCruce)     \"\"\"\n",
        "\n",
        "  #Una vez quitado los entreros, vuelve a estar desordenado, por lo que tenemos que ordenarlo\n",
        "  #Pero si se ordena, perderiamos la relacion con los padres ordenados, por lo que\n",
        "  #Se crea otra copia que se ordenara y tenga relacion con los valores esperados individuales\n",
        "  EspIdnvOrdenado=copy.deepcopy(EsperadoIndividual)\n",
        "  mergeSort(EspIdnvOrdenado,0,len(ProficiencyParents)-1)\n",
        "  \"\"\"print(\"EspIndvOrdenado Sin enteros\",EspIdnvOrdenado)\"\"\"\n",
        "\n",
        "  #Establecemos cota superior\n",
        "  CotaSuperior=EspIdnvOrdenado[len(ProficiencyParents)-1]\n",
        "\n",
        "\n",
        "  #Agregamos a los padres faltantes\n",
        "  for i in range(len(ListadeCruce),len(ProficiencyParents)):\n",
        "    #Numero random\n",
        "    r=random.uniform(0,CotaSuperior)\n",
        "    \"\"\"print(\"R\",r)\"\"\"\n",
        "    for j in range(len(ProficiencyParents)):\n",
        "      \"\"\"print(\"EspIndvOrdenado[j]=\",EspIdnvOrdenado[j])\"\"\"\n",
        "      if(r<EspIdnvOrdenado[j]):\n",
        "        #Con este buscamos donde se encuentra en el individual ordenado\n",
        "        UbicacionPrimaria=EsperadoIndividual.index(EspIdnvOrdenado[j])\n",
        "        \"\"\"print(\"Ubicacion Primaria\", UbicacionPrimaria)\"\"\"\n",
        "        #Con este buscamos donde se encuentra en el proficiencyparent\n",
        "        UbicacionSecundaria=ProficiencyParents.index(EsperadoOrdenado[UbicacionPrimaria])\n",
        "        \"\"\"print(\"Ubicacion Secundaria\",UbicacionSecundaria)\"\"\"\n",
        "        ListadeCruce.append(UbicacionSecundaria)\n",
        "        \"\"\"print(\"Lista de Cruce [\",i,\"]\",ListadeCruce)\"\"\"\n",
        "        break\n",
        "\n",
        "\n",
        "\n",
        "  return(ListadeCruce)\n"
      ],
      "metadata": {
        "id": "5lSNS_VnzgBv"
      },
      "execution_count": 11,
      "outputs": []
    },
    {
      "cell_type": "markdown",
      "source": [
        "##Valor Esperado Aditamientos\n",
        "\n",
        "###Original"
      ],
      "metadata": {
        "id": "Hh773TosBlS2"
      }
    },
    {
      "cell_type": "code",
      "source": [
        "def ValEspOriginal(ProficiencyParents):\n",
        "  EsperadoIndividual=copy.deepcopy(ProficiencyParents)\n",
        "  ValEsperado=Sumatoria(ProficiencyParents)/len(ProficiencyParents)\n",
        "  for i in range(0,len(ProficiencyParents)):\n",
        "    EsperadoIndividual[i]=EsperadoIndividual[i]/ValEsperado\n",
        "\n",
        "  return EsperadoIndividual\n"
      ],
      "metadata": {
        "id": "NYhOcnCfBpJr"
      },
      "execution_count": 12,
      "outputs": []
    },
    {
      "cell_type": "markdown",
      "source": [
        "###Valor Esperado de Jerarquia"
      ],
      "metadata": {
        "id": "MHWjkLvtm2G0"
      }
    },
    {
      "cell_type": "code",
      "source": [
        "def ValEspJerarquia(EsperadoIndividual):\n",
        "  Valores=copy.deepcopy(EsperadoIndividual)\n",
        "  Maximo=1.1\n",
        "  Minimo=round(2-Maximo,2)\n",
        "\n",
        "\n",
        "  for i in range(0,len(EsperadoIndividual)):\n",
        "\n",
        "    Valores[i]=round(Minimo+(Maximo-Minimo)*((i-1)/(len(EsperadoIndividual)-1)),2)\n",
        "\n",
        "\n",
        "\n",
        "\n",
        "  \"\"\"print(\"Valores Esperados\",Valores)\"\"\"\n",
        "  return Valores"
      ],
      "metadata": {
        "id": "NkVnDz0cBk--"
      },
      "execution_count": 13,
      "outputs": []
    },
    {
      "cell_type": "code",
      "source": [],
      "metadata": {
        "id": "o10pRXdFBk8P"
      },
      "execution_count": null,
      "outputs": []
    },
    {
      "cell_type": "markdown",
      "source": [
        "#Codigo Principal"
      ],
      "metadata": {
        "id": "sQ81cLf58nDa"
      }
    },
    {
      "cell_type": "code",
      "source": [
        "#Importamos librerias\n",
        "import sympy\n",
        "import copy\n",
        "import random\n",
        "\n",
        "if __name__ == \"__main__\":\n",
        "  a=[2,4,5,6,2,7,12,10]\n",
        "  print(\"Valor Original\",a)\n",
        "  SobEstJer(a)"
      ],
      "metadata": {
        "colab": {
          "base_uri": "https://localhost:8080/"
        },
        "id": "lrFTyVCqK15D",
        "outputId": "8340e628-5670-4854-bd42-946d61465cac"
      },
      "execution_count": 14,
      "outputs": [
        {
          "output_type": "stream",
          "name": "stdout",
          "text": [
            "Valor Original [2, 4, 5, 6, 2, 7, 12, 10]\n"
          ]
        }
      ]
    },
    {
      "cell_type": "code",
      "source": [
        "pip install xlwt"
      ],
      "metadata": {
        "colab": {
          "base_uri": "https://localhost:8080/"
        },
        "id": "Ckt_qFOLHb3J",
        "outputId": "cc989eab-e88c-49e0-b852-a159879db2fc"
      },
      "execution_count": 15,
      "outputs": [
        {
          "output_type": "stream",
          "name": "stdout",
          "text": [
            "Collecting xlwt\n",
            "  Downloading xlwt-1.3.0-py2.py3-none-any.whl (99 kB)\n",
            "\u001b[?25l     \u001b[90m━━━━━━━━━━━━━━━━━━━━━━━━━━━━━━━━━━━━━━━━\u001b[0m \u001b[32m0.0/100.0 kB\u001b[0m \u001b[31m?\u001b[0m eta \u001b[36m-:--:--\u001b[0m\r\u001b[2K     \u001b[91m━━━━━━━━━━━━━━━━━━━━━━━━━━━━━━━━━━━━\u001b[0m\u001b[91m╸\u001b[0m\u001b[90m━━━\u001b[0m \u001b[32m92.2/100.0 kB\u001b[0m \u001b[31m3.0 MB/s\u001b[0m eta \u001b[36m0:00:01\u001b[0m\r\u001b[2K     \u001b[90m━━━━━━━━━━━━━━━━━━━━━━━━━━━━━━━━━━━━━━━━\u001b[0m \u001b[32m100.0/100.0 kB\u001b[0m \u001b[31m2.6 MB/s\u001b[0m eta \u001b[36m0:00:00\u001b[0m\n",
            "\u001b[?25hInstalling collected packages: xlwt\n",
            "Successfully installed xlwt-1.3.0\n"
          ]
        }
      ]
    },
    {
      "cell_type": "code",
      "source": [
        "#Escuela Superior de Fisico y Matematicas\n",
        "#Licenciatura En Matematica Algoritmica\n",
        "#Fundamentos de la inteligencia Artificial\n",
        "#Profesora: Lourdes Fabiola Uribe Richaud\n",
        "#Alumno:\n",
        "    #Victor Hugo Martinez Huicochea\n",
        "\n",
        "#Importamos librerias\n",
        "import sympy\n",
        "import copy\n",
        "import random\n",
        "import numpy\n",
        "import xlwt\n",
        "from google.colab import files\n",
        "\n",
        "#Iniciamos Algoritmo\n",
        "if __name__ == \"__main__\":\n",
        "  Pi=3.1415926535\n",
        "  #Creamos padres\n",
        "  random.seed(100)\n",
        "  NumberOfTotalParents=100\n",
        "  NumberOfTotalSons=100\n",
        "  Generation=0\n",
        "  MaxGeneration=500\n",
        "  n=5\n",
        "\n",
        "  #Upper=[Pi,Pi,Pi,Pi,Pi]\n",
        "  #Lower=[0,0,0,0,0]\n",
        "  Upper=[1,1,1,1,1]\n",
        "  Lower=[-1,-1,-1,-1,-1]\n",
        "\n",
        "\n",
        "  wb=xlwt.Workbook()\n",
        "  sheet1 = wb.add_sheet(\"Sheet 1\")\n",
        "  sheet1.write(0,0,\"Sobrante Estocastico Jerarquizado\")\n",
        "  sheet1.write(0,1,\"N1\")\n",
        "  sheet1.write(0,2,\"N2\")\n",
        "  sheet1.write(0,3,\"N3\")\n",
        "  sheet1.write(0,4,\"N4\")\n",
        "  sheet1.write(0,5,\"N5\")\n",
        "  sheet1.write(0,6,\"Resultado\")\n",
        "\n",
        "  for q in range(0,30):\n",
        "    Generation=0\n",
        "    Parents=[]\n",
        "\n",
        "\n",
        "    #Creamos Poblacion Inicial\n",
        "    for i in range(0,NumberOfTotalParents):\n",
        "      ParentSol=[]\n",
        "      for j in range(0,n):\n",
        "        ParentSol.append(random.uniform(Lower[j], Upper[j]))\n",
        "      Parents.append(ParentSol)\n",
        "    #Evaluamos Padres\n",
        "    ProficiencyParents=Evaluacion(Parents)\n",
        "\n",
        "\n",
        "    while(Generation!=MaxGeneration):\n",
        "\n",
        "      #Buscamos a los padres para ir a la mating pool\n",
        "      Childrens=[]\n",
        "\n",
        "      ListadeCruce=Ruleta(ProficiencyParents)\n",
        "      #ListadeCruce=TorneoDet(ProficiencyParents)\n",
        "      #ListadeCruce=TorneoProb(ProficiencyParents)\n",
        "      #ListadeCruce=SobranteEstocastico(ProficiencyParents)\n",
        "      #ListadeCruce=SobEstJer(ProficiencyParents)\n",
        "\n",
        "\n",
        "\n",
        "      #De la lista de cruce se escojen 2 a cruzar\n",
        "      for i in range(0,int(len(ListadeCruce)/2)):\n",
        "        SelecteParent1=ListadeCruce[2*i]\n",
        "        SelecteParent2=ListadeCruce[2*i+1]\n",
        "        Childrens=Cruzamiento(Parents[SelecteParent1],Parents[SelecteParent2],Childrens)\n",
        "\n",
        "\n",
        "\n",
        "      #Mutamos:\n",
        "      for i in range(0,len(Childrens)):\n",
        "        Volado=random.uniform(0,1)\n",
        "        if(Volado<0.5):\n",
        "          Childrens[i]=MutacionUniforme(Childrens[i],Lower,Upper,Generation,MaxGeneration)\n",
        "\n",
        "\n",
        "      #Obtenemos la aptitud de los hijos\n",
        "      ProficiencyChildren=Evaluacion(Childrens)\n",
        "      #Generamos nuevos padres\n",
        "\n",
        "\n",
        "      Parents,ProficiencyParents=Supervivencia(Parents,Childrens,ProficiencyParents,ProficiencyChildren)\n",
        "\n",
        "      #Aumentamos generacion\n",
        "      Generation+=1\n",
        "\n",
        "\n",
        "\n",
        "    #Imprimimos resultados\n",
        "    c=min(ProficiencyParents)\n",
        "    for i in range(0,len(Parents)):\n",
        "      if(c==ProficiencyParents[i]):\n",
        "        c=i\n",
        "        break\n",
        "    print(\"Intento numero: \",q,\"Mejor Punto Alcanzado:\",Parents[i], \" Evaluado da:\", min(ProficiencyParents))\n",
        "\n",
        "    sheet1.write(q+1,0,q+1)\n",
        "    for k in range(0,len(Parents[i])):\n",
        "      sheet1.write(q+1,k+1,Parents[i][k])\n",
        "    sheet1.write(q+1,k+2,min(ProficiencyParents))\n",
        "\n",
        "\n",
        "  wb.save(\"PowersResultadosSobranteEstocasticoJerarquizado.xls\")\n",
        "  files.download(\"PowersResultadosSobranteEstocasticoJerarquizado.xls\")\n",
        "\n",
        "  print(\"Fin del Programa :D\")\n",
        "\n",
        "\n"
      ],
      "metadata": {
        "colab": {
          "base_uri": "https://localhost:8080/",
          "height": 575
        },
        "id": "ZxOCGccX8QVJ",
        "outputId": "62adc077-89b6-42fe-f172-9739c2f78902"
      },
      "execution_count": 17,
      "outputs": [
        {
          "output_type": "stream",
          "name": "stdout",
          "text": [
            "Intento numero:  0 Mejor Punto Alcanzado: [1.7822888241077607e-05, 5.801264016802447e-07, -0.2229141833706887, -0.22175120450097285, 0.018236507294571602]  Evaluado da: 0.0030053731769924476\n",
            "Intento numero:  1 Mejor Punto Alcanzado: [0.0002057359271995074, 0.00018721764896183592, 0.14126031713320852, -0.21264234265108972, -0.003040262902255897]  Evaluado da: 0.0008329826539767162\n",
            "Intento numero:  2 Mejor Punto Alcanzado: [7.319379726656814e-05, -7.038022179205377e-05, 0.18509730022460236, 0.12092002471747598, -0.00832293237885895]  Evaluado da: 0.0011996740227257403\n",
            "Intento numero:  3 Mejor Punto Alcanzado: [-8.364638360440919e-05, 2.4622082335220533e-05, -0.03475200946851631, -0.11437844122249907, 0.003771551562729014]  Evaluado da: 2.1041402035067757e-05\n",
            "Intento numero:  4 Mejor Punto Alcanzado: [1.6917077276136906e-05, 1.221041328104315e-05, -0.01584788577603291, -0.1223409376858915, -0.006327565309020455]  Evaluado da: 2.7470209102984337e-05\n",
            "Intento numero:  5 Mejor Punto Alcanzado: [5.56004308389675e-05, 4.217833737444194e-05, 0.22628641537888816, 0.3797709383886403, 0.006058939412724174]  Evaluado da: 0.010521674943988965\n",
            "Intento numero:  6 Mejor Punto Alcanzado: [1.4837996272300301e-05, 1.0083594674406863e-05, -0.10018491098208004, -0.13863055011311975, -0.0685703216210809]  Evaluado da: 0.0001520487869045849\n",
            "Intento numero:  7 Mejor Punto Alcanzado: [4.1544767064218967e-07, -8.405101322206399e-05, 0.003246355664497491, 0.14068079956460533, 0.020377729531739552]  Evaluado da: 5.510304334935152e-05\n",
            "Intento numero:  8 Mejor Punto Alcanzado: [-2.951323613159089e-05, 0.0001719396097543607, -0.059713889236133744, 0.15030416069828978, 0.010833646290685506]  Evaluado da: 8.942597602271025e-05\n",
            "Intento numero:  9 Mejor Punto Alcanzado: [-1.5130819855442436e-05, -5.1570547738847194e-06, 0.03012188903886437, 0.09284085228671257, -0.00396261187824587]  Evaluado da: 7.721035095666573e-06\n",
            "Intento numero:  10 Mejor Punto Alcanzado: [2.5408995734783585e-05, -2.868792742078709e-05, -0.030717707744360778, -0.13576131777768174, 0.0400234986869048]  Evaluado da: 4.701413107959146e-05\n",
            "Intento numero:  11 Mejor Punto Alcanzado: [4.2440535622995915e-05, -9.226545087973965e-06, -0.014556042135444702, 0.30581117744133146, -0.03756791123672909]  Evaluado da: 0.002674698367968211\n",
            "Intento numero:  12 Mejor Punto Alcanzado: [-8.904361826937642e-06, 4.556629128334062e-05, 0.1974007377880147, -0.043888108241288304, 0.034417470659610316]  Evaluado da: 0.0015185956569020115\n",
            "Intento numero:  13 Mejor Punto Alcanzado: [-2.9241964272340632e-05, -0.00011775903891026872, 0.19268916505631584, -0.29333231600821663, 0.00602740878777408]  Evaluado da: 0.0035502706115225573\n",
            "Intento numero:  14 Mejor Punto Alcanzado: [0.00012858490918297581, -5.534704370867939e-07, -0.3130523238039, -0.19004792238138446, 0.019277976329749258]  Evaluado da: 0.009852283368739077\n",
            "Intento numero:  15 Mejor Punto Alcanzado: [-6.764738392202817e-05, -1.0610780312815104e-05, 0.047733632991468156, -0.015287400898971404, 0.0033426118542660976]  Evaluado da: 5.196972103642784e-06\n",
            "Intento numero:  16 Mejor Punto Alcanzado: [3.222252067271137e-05, 1.4920901738577118e-08, -0.06026220928533266, 0.31296868798972843, -0.0011279042627365676]  Evaluado da: 0.0030158372383086484\n",
            "Intento numero:  17 Mejor Punto Alcanzado: [1.6285590231857093e-05, 9.993146004973281e-05, -0.047169644609383, 0.028161531163893416, 0.02918159312968438]  Evaluado da: 4.969111710589789e-06\n",
            "Intento numero:  18 Mejor Punto Alcanzado: [-2.9340014740067508e-05, -6.931149248529056e-05, 0.0494457505603787, 0.05886019241043816, 0.004311848948295616]  Evaluado da: 6.684804237331627e-06\n",
            "Intento numero:  19 Mejor Punto Alcanzado: [-0.00010836736313419744, -0.00019018543084548228, -0.03255382894601988, -0.12039991459143495, -0.0117434333758073]  Evaluado da: 2.6435431113812194e-05\n",
            "Intento numero:  20 Mejor Punto Alcanzado: [2.8763815124044314e-05, -0.0001278239863735633, 0.10680934921074803, 0.057248050582509924, 0.05937247026670667]  Evaluado da: 0.0001308074049962636\n",
            "Intento numero:  21 Mejor Punto Alcanzado: [-7.318120993148839e-05, 8.930910036136379e-05, -0.006910099108595968, -0.08952617394304219, -0.02793718977143289]  Evaluado da: 5.759201108438786e-06\n",
            "Intento numero:  22 Mejor Punto Alcanzado: [3.987124798250852e-05, -1.5862030408544855e-05, 0.03733068632677572, -0.11881592830539778, -0.019662277114383064]  Evaluado da: 2.5623256710214286e-05\n",
            "Intento numero:  23 Mejor Punto Alcanzado: [-7.917460497918155e-05, 3.7092291289769056e-05, 0.07745353802494614, 0.017667234989748648, -0.005510165963850122]  Evaluado da: 3.599659747546345e-05\n",
            "Intento numero:  24 Mejor Punto Alcanzado: [4.285556037233513e-05, 4.18072182821749e-05, -0.05565033408390452, -0.14774106836195067, -0.00031621450553931396]  Evaluado da: 7.998221974224592e-05\n",
            "Intento numero:  25 Mejor Punto Alcanzado: [-6.019875250456549e-05, 9.587654027321537e-05, 0.20486661123941596, 0.06224501971907204, 0.021729160835401773]  Evaluado da: 0.0017624465750406622\n",
            "Intento numero:  26 Mejor Punto Alcanzado: [4.025804248652433e-06, -0.00035497227570548096, -0.008880888407755805, -0.07163831251595187, 0.056185694479824466]  Evaluado da: 1.924544909958973e-06\n",
            "Intento numero:  27 Mejor Punto Alcanzado: [-4.067967411143426e-05, -7.510958394687926e-05, -0.17645983011891087, 0.26388623148310786, 0.009290200090297018]  Evaluado da: 0.0022492089287425706\n",
            "Intento numero:  28 Mejor Punto Alcanzado: [1.1402183919304682e-05, 0.0001069226304304346, -0.04514822635230309, 0.10440843058397653, -0.010503222866222517]  Evaluado da: 1.6562369478221498e-05\n",
            "Intento numero:  29 Mejor Punto Alcanzado: [-7.657707212370532e-06, -1.2830801017533049e-05, -0.1374358539535705, -0.3538701532819353, -0.040908431924572275]  Evaluado da: 0.0059058476791089875\n"
          ]
        },
        {
          "output_type": "display_data",
          "data": {
            "text/plain": [
              "<IPython.core.display.Javascript object>"
            ],
            "application/javascript": [
              "\n",
              "    async function download(id, filename, size) {\n",
              "      if (!google.colab.kernel.accessAllowed) {\n",
              "        return;\n",
              "      }\n",
              "      const div = document.createElement('div');\n",
              "      const label = document.createElement('label');\n",
              "      label.textContent = `Downloading \"${filename}\": `;\n",
              "      div.appendChild(label);\n",
              "      const progress = document.createElement('progress');\n",
              "      progress.max = size;\n",
              "      div.appendChild(progress);\n",
              "      document.body.appendChild(div);\n",
              "\n",
              "      const buffers = [];\n",
              "      let downloaded = 0;\n",
              "\n",
              "      const channel = await google.colab.kernel.comms.open(id);\n",
              "      // Send a message to notify the kernel that we're ready.\n",
              "      channel.send({})\n",
              "\n",
              "      for await (const message of channel.messages) {\n",
              "        // Send a message to notify the kernel that we're ready.\n",
              "        channel.send({})\n",
              "        if (message.buffers) {\n",
              "          for (const buffer of message.buffers) {\n",
              "            buffers.push(buffer);\n",
              "            downloaded += buffer.byteLength;\n",
              "            progress.value = downloaded;\n",
              "          }\n",
              "        }\n",
              "      }\n",
              "      const blob = new Blob(buffers, {type: 'application/binary'});\n",
              "      const a = document.createElement('a');\n",
              "      a.href = window.URL.createObjectURL(blob);\n",
              "      a.download = filename;\n",
              "      div.appendChild(a);\n",
              "      a.click();\n",
              "      div.remove();\n",
              "    }\n",
              "  "
            ]
          },
          "metadata": {}
        },
        {
          "output_type": "display_data",
          "data": {
            "text/plain": [
              "<IPython.core.display.Javascript object>"
            ],
            "application/javascript": [
              "download(\"download_cb13291e-46ca-405c-a257-693a970b5176\", \"PowersResultadosSobranteEstocasticoJerarquizado.xls\", 9728)"
            ]
          },
          "metadata": {}
        },
        {
          "output_type": "stream",
          "name": "stdout",
          "text": [
            "Fin del Programa :D\n"
          ]
        }
      ]
    }
  ]
}